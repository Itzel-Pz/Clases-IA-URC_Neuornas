{
  "nbformat": 4,
  "nbformat_minor": 0,
  "metadata": {
    "colab": {
      "provenance": []
    },
    "kernelspec": {
      "name": "python3",
      "display_name": "Python 3"
    },
    "language_info": {
      "name": "python"
    }
  },
  "cells": [
    {
      "cell_type": "markdown",
      "source": [
        "#REDES NEURONALES\n",
        "\n",
        "\n"
      ],
      "metadata": {
        "id": "-fUgsw7t_ttB"
      }
    },
    {
      "cell_type": "code",
      "execution_count": null,
      "metadata": {
        "id": "Ii36wNm-8ukm"
      },
      "outputs": [],
      "source": [
        "import numpy as np #importo numpy"
      ]
    },
    {
      "cell_type": "code",
      "source": [
        "import numpy as np\n",
        "# Entradas para la neurona\n",
        "\n",
        "#Se crea una matriz de entradas\n",
        "X = np.array([\n",
        "    [0, 0], #Entrada 0,0\n",
        "    [0, 1], #Entrada 0,1\n",
        "    [1, 0], #Entrada 1,0\n",
        "    [1, 1] #Entrada 1,1\n",
        "])\n",
        "\n",
        "\"\"\"\n",
        "Salidas:\n",
        "\n",
        "Cada valor representa una salida diferente, para la primera entrada (0,0) la salida es 0, para la segunda entrada (0,1) la salida es 1,\n",
        " para la tercera entrada (1,0) la salida es 1 y para la cuarta entrada (1,1) la salida es 1. Representando una función OR.\n",
        "\"\"\"\n",
        "Y = np.array([0, 1, 1, 1])\n",
        "\n",
        "\n",
        "\"\"\"\n",
        "Pesos:\n",
        "Se añaden los pesos para cada entrada y el umbral.\n",
        "\"\"\"\n",
        "W = [10, 50]\n",
        "\n",
        "\"\"\"\n",
        "Umbral:\n",
        "Umbral para la función de activación, es decir, con qué valor se activa la neurona.\n",
        "\n",
        "\"\"\"\n",
        "\n",
        "umbral = 2"
      ],
      "metadata": {
        "id": "i_7wZEbVBhZn"
      },
      "execution_count": null,
      "outputs": []
    },
    {
      "cell_type": "code",
      "source": [
        "\"\"\"\n",
        "Se declara una clase para la neurona McCullochPitts.\n",
        "\n",
        "\"\"\"\n",
        "\n",
        "\n",
        "class McCullochPitts: #Se declara una clase\n",
        "\n",
        "\"\"\"\n",
        "En la clase de determinan varias funciones, primero tenemos la función de inicialización.\n",
        "Que inicializa los pesos (weights) y el umbral (umbral).\n",
        "\n",
        "\"\"\"\n",
        "\n",
        "    def __init__(self, weights, umbral): # Se le pasan los parametros: peso y umbral a la función de inicialización\n",
        "\n",
        "        self.weights = weights #peso\n",
        "        self.umbral = umbral #umbraal\n",
        "\n",
        "\n",
        "\"\"\"\n",
        "Función que realiza la predicción de la neurona. Pasa como parametro la matriz de entradas (X).\n",
        "Para posteriormente, calcular la suma ponderada de las entradas con los pesos y comparar con el umbral.\n",
        "\n",
        "\n",
        "\"\"\"\n",
        "    def predict(self, X):\n",
        "\n",
        "        predictions = []   # Lista vacia que se utilizara para almacenar los valores que prediga la neurona\n",
        "        for i in range(X.shape[0]): #Para cada uno de los elementos de la matriz de entradas (X) se realizara lo siguiente:\n",
        "            weighted_sum = np.dot(self.weights, X[i]) #Se calcula el producto punto entre ambos vectores (la primera entrada por el primer peso, más la segunda entrada por el peso dos, así sucesivamente)\n",
        "            print(f\"Input: {X[i]}, Weighted Sum: {weighted_sum}\") #Se muestra el resultado\n",
        "            if weighted_sum >= self.umbral: #Si el resultado de la suma ponderada es mayor o igual al umbral se realiza lo siguiente:\n",
        "                predictions.append(1) #Se agrega el valor 1 a mi lista vacía que contendrá los valores predichos\n",
        "            else:\n",
        "                predictions.append(0) #Si no se cumple la primera condución se agrega un cero a mi lista vacía que contendrá los valores predichos\n",
        "        return predictions #Nos devuelve la lista con los valores predichos\n",
        "\n"
      ],
      "metadata": {
        "id": "OyyUgCyx_LPY"
      },
      "execution_count": null,
      "outputs": []
    },
    {
      "cell_type": "code",
      "source": [
        "#Mandamos a llamar nuestra clase  McCullochPitts y generamos el objeto llamado \"mpc\"\n",
        "mcp = McCullochPitts(W, umbral)\n",
        "\n",
        "predictions = mcp.predict(X) #Podemos usar el método predict para ejecutar la predicción de los valores\n",
        "print(\"Predictions:\", predictions) #Mostramos el resultado"
      ],
      "metadata": {
        "colab": {
          "base_uri": "https://localhost:8080/"
        },
        "id": "53Of8WpuBa-u",
        "outputId": "0a24c5b9-758a-4233-9268-8860c1bb46a2"
      },
      "execution_count": null,
      "outputs": [
        {
          "output_type": "stream",
          "name": "stdout",
          "text": [
            "Input: [0 0], Weighted Sum: 0\n",
            "Input: [0 1], Weighted Sum: 1\n",
            "Input: [1 0], Weighted Sum: 1\n",
            "Input: [1 1], Weighted Sum: 2\n",
            "Predictions: [0, 1, 1, 1]\n"
          ]
        }
      ]
    },
    {
      "cell_type": "code",
      "source": [],
      "metadata": {
        "id": "q-xt7Z5rGaSC"
      },
      "execution_count": null,
      "outputs": []
    }
  ]
}