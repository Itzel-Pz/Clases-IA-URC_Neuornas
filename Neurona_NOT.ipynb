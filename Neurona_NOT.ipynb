{
  "nbformat": 4,
  "nbformat_minor": 0,
  "metadata": {
    "colab": {
      "provenance": []
    },
    "kernelspec": {
      "name": "python3",
      "display_name": "Python 3"
    },
    "language_info": {
      "name": "python"
    }
  },
  "cells": [
    {
      "cell_type": "markdown",
      "source": [
        "#REDES NEURONALES\n",
        "\n",
        "\n"
      ],
      "metadata": {
        "id": "-fUgsw7t_ttB"
      }
    },
    {
      "cell_type": "code",
      "execution_count": 4,
      "metadata": {
        "id": "Ii36wNm-8ukm"
      },
      "outputs": [],
      "source": [
        "import numpy as np #importo numpy"
      ]
    },
    {
      "cell_type": "code",
      "source": [
        "import numpy as np\n",
        "\n",
        "# Entradas para la neurona NOT\n",
        "# La compuerta NOT solo tiene UNA entrada\n",
        "X = np.array([\n",
        "    [0],  # Entrada 0\n",
        "    [1]   # Entrada 1\n",
        "])\n",
        "\n",
        "\"\"\"\n",
        "Salidas para NOT:\n",
        "- Para entrada 0: salida 1\n",
        "- Para entrada 1 : salida 0\n",
        "\"\"\"\n",
        "Y = np.array([1, 0])\n",
        "\n",
        "\"\"\"\n",
        "Pesos para NOT:\n",
        "Solo se necesita un peso ya que tenemos una entrada\n",
        "Usamos un peso NEGATIVO\n",
        "\"\"\"\n",
        "W = [-10]  # Un solo peso negativo\n",
        "\n",
        "\"\"\"\n",
        "Umbral:\n",
        "El umbral debe ser mayor que 0 pero menor que el valor absoluto del peso\n",
        "\"\"\"\n",
        "umbral = -5\n",
        "\n",
        "\"\"\"\n",
        "Se declara una clase para la neurona McCullochPitts.\n",
        "\"\"\"\n",
        "\n",
        "class McCullochPitts: #Se declara una clase\n",
        "    def __init__(self, weights, umbral):  # Se le pasan los parametros: peso y umbral a la función de inicialización\n",
        "        self.weights = weights\n",
        "        self.umbral = umbral\n",
        "\n",
        "    \"\"\"Función que realiza la predicción de la neurona. Pasa como parametro la matriz de entradas (X).\n",
        "    Para posteriormente, calcular la suma ponderada de las entradas con los pesos y comparar con el umbral.\n",
        "    \"\"\"\n",
        "    def predict(self, X): #Función cuyo parametro es la matriz X\n",
        "        predictions = [] # Lista vacia que se utilizara para almacenar los valores que prediga la neurona\n",
        "        for i in range(X.shape[0]): #Para cada uno de los elementos de la matriz de entradas (X) se realizara lo siguiente:\n",
        "            weighted_sum = np.dot(self.weights, X[i]) #Se calcula el producto punto entre ambos vectores (la primera entrada por el primer peso, más la segunda entrada por el peso dos, así sucesivamente)\n",
        "            print(f\"Input: {X[i]}, Weighted Sum: {weighted_sum}\") #Se muestra el resultado\n",
        "            if weighted_sum >= self.umbral: #Si el resultado de la suma ponderada es mayor o igual al umbral se realiza lo siguiente:\n",
        "                predictions.append(1) #Se agrega el valor 1 a mi lista vacía que contendrá los valores predichos\n",
        "            else:\n",
        "                predictions.append(0) #Si no se cumple la primera condución se agrega un cero a mi lista vacía que contendrá los valores predichos\n",
        "        return predictions #Nos devuelve la lista con los valores predichos\n",
        "\n",
        "# Creamos y probamos la neurona NOT\n",
        "\n",
        "#Mandamos a llamar nuestra clase  McCullochPitts y generamos el objeto llamado \"mcp\"\n",
        "mcp = McCullochPitts(W, umbral)\n",
        "predictions = mcp.predict(X)  #Podemos usar el método predict para ejecutar la predicción de los valores\n",
        "\n",
        "#Mostramos los resultados\n",
        "print(\"Entradas:\", X.flatten())\n",
        "print(\"Salidas esperadas (NOT):\", Y)\n",
        "print(\"Predicciones:\", predictions)"
      ],
      "metadata": {
        "colab": {
          "base_uri": "https://localhost:8080/"
        },
        "id": "7Au0eFAGrZwR",
        "outputId": "11c2f173-490c-48bf-8116-bb21821eed1c"
      },
      "execution_count": 5,
      "outputs": [
        {
          "output_type": "stream",
          "name": "stdout",
          "text": [
            "Input: [0], Weighted Sum: 0\n",
            "Input: [1], Weighted Sum: -10\n",
            "Entradas: [0 1]\n",
            "Salidas esperadas (NOT): [1 0]\n",
            "Predicciones: [1, 0]\n"
          ]
        }
      ]
    },
    {
      "cell_type": "code",
      "source": [],
      "metadata": {
        "id": "q-xt7Z5rGaSC"
      },
      "execution_count": null,
      "outputs": []
    }
  ]
}